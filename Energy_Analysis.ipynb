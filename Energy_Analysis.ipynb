{
 "cells": [
  {
   "cell_type": "markdown",
   "metadata": {},
   "source": [
    "# Analysis and Time Series Forecasting of Energy Consumption\n",
    "\n",
    "This report contains descriptive analytics and univariate time series forecasting of the [Household Power Consumption Dataset](https://archive.ics.uci.edu/ml/datasets/individual+household+electric+power+consumption). This dataset describes electricity consumption for a single household over four years, including energy measurements taken for every minute between 12-16-2006 and 12-11-2010.\n",
    "\n",
    "\n",
    "## Goals\n",
    "\n",
    "The focus of this analysis will be on **global_active_power:** the total active power consumed by the household (kilowatts).\n",
    "\n",
    "### Visualization\n",
    "* Perform descriptive analytics on the global_active_power variable\n",
    "* Plot time series of global_active_power over the entire four year timeframe\n",
    "* Plot average monthly global active power\n",
    "* Plot typical daily consumption by month\n",
    "* Plot global active power \n",
    "\n",
    "### Forecasting \n",
    "Apply and evaluate the following forecasting methods to the global_active_power time series:\n",
    "* Linear Regression (perfomed as an exercise)\n",
    "* Seasonal AutoRegressive Integrated Moving Average (SARIMA)\n",
    "* Prophet Forecasting Procedure\n",
    "\n",
    "## Get Data\n",
    "The following libraries will be used for dataframes, visualization, and machine learning."
   ]
  },
  {
   "cell_type": "code",
   "execution_count": 8,
   "metadata": {},
   "outputs": [],
   "source": [
    "import config as config"
   ]
  },
  {
   "cell_type": "code",
   "execution_count": 13,
   "metadata": {},
   "outputs": [],
   "source": [
    "#Import libraries\n",
    "import pandas as pd\n",
    "import numpy as np\n",
    "import matplotlib.pyplot as plt\n",
    "import seaborn as sns\n",
    "from datetime import datetime\n",
    "import plotly as py #pip install plotly\n",
    "import plotly.graph_objs as go\n",
    "from scipy import stats\n",
    "from fbprophet import Prophet #pip install fbprophet\n",
    "import warnings\n",
    "warnings.filterwarnings('ignore')\n",
    "py.tools.set_credentials_file(username=config.plotly['username'], api_key=config.plotly['api_key'])"
   ]
  },
  {
   "cell_type": "markdown",
   "metadata": {},
   "source": [
    "The household_power_consumption file was quite large, so I stored it in my github repository using Large File Storage (LFS). The next step is to assign data types to each variable within the dataset. Approximately 1% of the dataset has missing values, so this is addressed with a forward fill."
   ]
  },
  {
   "cell_type": "code",
   "execution_count": 14,
   "metadata": {
    "scrolled": true
   },
   "outputs": [],
   "source": [
    "#Import data file\n",
    "path = 'https://media.githubusercontent.com/media/mkivenson/Household-Power-Consumption/master/household_power_consumption.txt'\n",
    "\n",
    "dtypes = {'Date': str,\n",
    "          'Time': str,\n",
    "          'Global_active_power': float,\n",
    "          'Global_reactive_power': float,\n",
    "          'Voltage': float,\n",
    "          'Global_intensity': float,\n",
    "          'Sub_metering_1': float,\n",
    "          'Sub_metering_2': float,\n",
    "          'Sub_metering_3': float}\n",
    "\n",
    "#Deal with missing values\n",
    "energy = pd.read_csv(path, sep=';',dtype=dtypes, na_values=\"?\")\n",
    "energy = energy.fillna(method='ffill')"
   ]
  },
  {
   "cell_type": "markdown",
   "metadata": {},
   "source": [
    "Some additional data preparation steps include adding a datetime formatted column as well as the following time summary columns: Year, Month, Day, and Hour. Finally, unnecessary columns are removed from the dataset. Now that the preliminary cleanup is complete, we can take a preview of the resulting dataframe below."
   ]
  },
  {
   "cell_type": "code",
   "execution_count": 15,
   "metadata": {},
   "outputs": [
    {
     "data": {
      "text/html": [
       "<div>\n",
       "<style scoped>\n",
       "    .dataframe tbody tr th:only-of-type {\n",
       "        vertical-align: middle;\n",
       "    }\n",
       "\n",
       "    .dataframe tbody tr th {\n",
       "        vertical-align: top;\n",
       "    }\n",
       "\n",
       "    .dataframe thead th {\n",
       "        text-align: right;\n",
       "    }\n",
       "</style>\n",
       "<table border=\"1\" class=\"dataframe\">\n",
       "  <thead>\n",
       "    <tr style=\"text-align: right;\">\n",
       "      <th></th>\n",
       "      <th>Date_Time</th>\n",
       "      <th>Date</th>\n",
       "      <th>Year</th>\n",
       "      <th>Month</th>\n",
       "      <th>Day</th>\n",
       "      <th>Hour</th>\n",
       "      <th>Time</th>\n",
       "      <th>Global_active_power</th>\n",
       "    </tr>\n",
       "  </thead>\n",
       "  <tbody>\n",
       "    <tr>\n",
       "      <th>0</th>\n",
       "      <td>2006-12-16 17:24:00</td>\n",
       "      <td>16/12/2006</td>\n",
       "      <td>2006</td>\n",
       "      <td>12</td>\n",
       "      <td>5</td>\n",
       "      <td>17</td>\n",
       "      <td>17:24:00</td>\n",
       "      <td>4.216</td>\n",
       "    </tr>\n",
       "    <tr>\n",
       "      <th>1</th>\n",
       "      <td>2006-12-16 17:25:00</td>\n",
       "      <td>16/12/2006</td>\n",
       "      <td>2006</td>\n",
       "      <td>12</td>\n",
       "      <td>5</td>\n",
       "      <td>17</td>\n",
       "      <td>17:25:00</td>\n",
       "      <td>5.360</td>\n",
       "    </tr>\n",
       "    <tr>\n",
       "      <th>2</th>\n",
       "      <td>2006-12-16 17:26:00</td>\n",
       "      <td>16/12/2006</td>\n",
       "      <td>2006</td>\n",
       "      <td>12</td>\n",
       "      <td>5</td>\n",
       "      <td>17</td>\n",
       "      <td>17:26:00</td>\n",
       "      <td>5.374</td>\n",
       "    </tr>\n",
       "    <tr>\n",
       "      <th>3</th>\n",
       "      <td>2006-12-16 17:27:00</td>\n",
       "      <td>16/12/2006</td>\n",
       "      <td>2006</td>\n",
       "      <td>12</td>\n",
       "      <td>5</td>\n",
       "      <td>17</td>\n",
       "      <td>17:27:00</td>\n",
       "      <td>5.388</td>\n",
       "    </tr>\n",
       "    <tr>\n",
       "      <th>4</th>\n",
       "      <td>2006-12-16 17:28:00</td>\n",
       "      <td>16/12/2006</td>\n",
       "      <td>2006</td>\n",
       "      <td>12</td>\n",
       "      <td>5</td>\n",
       "      <td>17</td>\n",
       "      <td>17:28:00</td>\n",
       "      <td>3.666</td>\n",
       "    </tr>\n",
       "  </tbody>\n",
       "</table>\n",
       "</div>"
      ],
      "text/plain": [
       "            Date_Time        Date  Year  Month  Day  Hour      Time  \\\n",
       "0 2006-12-16 17:24:00  16/12/2006  2006     12    5    17  17:24:00   \n",
       "1 2006-12-16 17:25:00  16/12/2006  2006     12    5    17  17:25:00   \n",
       "2 2006-12-16 17:26:00  16/12/2006  2006     12    5    17  17:26:00   \n",
       "3 2006-12-16 17:27:00  16/12/2006  2006     12    5    17  17:27:00   \n",
       "4 2006-12-16 17:28:00  16/12/2006  2006     12    5    17  17:28:00   \n",
       "\n",
       "   Global_active_power  \n",
       "0                4.216  \n",
       "1                5.360  \n",
       "2                5.374  \n",
       "3                5.388  \n",
       "4                3.666  "
      ]
     },
     "execution_count": 15,
     "metadata": {},
     "output_type": "execute_result"
    }
   ],
   "source": [
    "#Insert additional columns\n",
    "energy.insert(0, 'Date_Time', pd.to_datetime(energy['Date'] + ' ' + energy['Time'])) #datetime format\n",
    "energy.insert(2, 'Year',energy['Date_Time'].dt.year) #year\n",
    "energy.insert(3, 'Month',energy['Date_Time'].dt.month) #month\n",
    "energy.insert(4, 'Day',energy['Date_Time'].dt.weekday) #weekday_name\n",
    "energy.insert(5, 'Hour',energy['Date_Time'].dt.hour) #hour\n",
    "\n",
    "#Exclude other numerical variables (univariate analysis)\n",
    "energy = energy.iloc[:,0:8]\n",
    "\n",
    "#Preview data\n",
    "energy.head()"
   ]
  },
  {
   "cell_type": "markdown",
   "metadata": {},
   "source": [
    "## Explore and Visualize Series\n",
    "\n",
    "### Descriptive Analysis\n",
    "\n",
    "This section will provide an overview of the Global_active_power distribution and how it behaves over time.\n",
    "\n",
    "**Distributions**\n",
    "\n",
    "First, we can summarize at the variable of interest, Global_active_power. Based on the mean (1.09) and median (0.6) values shown in the variable description, it appears that the power consumption is strongly left skewed. We can take a closer look at the distribution of this variable by plotting a histogram and a boxplot."
   ]
  },
  {
   "cell_type": "code",
   "execution_count": 16,
   "metadata": {},
   "outputs": [
    {
     "data": {
      "text/plain": [
       "count    2075259.000000\n",
       "mean           1.090000\n",
       "std            1.050000\n",
       "min            0.080000\n",
       "25%            0.310000\n",
       "50%            0.600000\n",
       "75%            1.520000\n",
       "max           11.120000\n",
       "Name: Global_active_power, dtype: object"
      ]
     },
     "execution_count": 16,
     "metadata": {},
     "output_type": "execute_result"
    }
   ],
   "source": [
    "np.round(energy['Global_active_power'].describe(), 2).apply(lambda x: format(x, 'f'))"
   ]
  },
  {
   "cell_type": "code",
   "execution_count": 146,
   "metadata": {},
   "outputs": [
    {
     "data": {
      "image/png": "[encoded data removed]",
      "text/plain": [
       "<Figure size 1080x720 with 4 Axes>"
      ]
     },
     "metadata": {},
     "output_type": "display_data"
    }
   ],
   "source": [
    "# Create subplots\n",
    "f, axes = plt.subplots(2,\n",
    "                       2, \n",
    "                       figsize=(15, 10), \n",
    "                       sharex=False, \n",
    "                       gridspec_kw={\"height_ratios\": (.15, .85),\"width_ratios\":(.60,.40)})\n",
    "#Main boxplot\n",
    "sns.boxplot(energy[\"Global_active_power\"] , color=\"blue\", ax=axes[0,0])\n",
    "axes[0,0].set_xlabel('')\n",
    "axes[0,0].set_xlim(0, None)\n",
    "\n",
    "#Main distribution\n",
    "sns.distplot(energy[\"Global_active_power\"] , color=\"blue\", ax=axes[1,0])\n",
    "axes[0,0].set_xlim(0, None)\n",
    "axes[1,0].set_title('Distribution of Global_active_power')\n",
    "\n",
    "#Zoom boxplot\n",
    "sns.boxplot(energy[\"Global_active_power\"], color=\"purple\", ax=axes[0,1])\n",
    "axes[0,1].set_xlabel('')\n",
    "axes[0,1].set_xlim(0, 3.37)\n",
    "\n",
    "#Zoom distribution\n",
    "sns.distplot(energy[\"Global_active_power\"], color=\"purple\", ax=axes[1,1])\n",
    "axes[1,1].set_title('Distribution without Outliers')\n",
    "axes[1,1].set_xlim(0, 3.37)\n",
    "\n",
    "# Add an arrow to mark the mean value\n",
    "axes[1,1].annotate(\n",
    "'Mean', xy=(energy[\"Global_active_power\"].mean(), .15), xytext=(.9, .6),\n",
    "arrowprops=dict(facecolor='black', shrink=0.01))\n",
    "\n",
    "plt.show()"
   ]
  },
  {
   "cell_type": "markdown",
   "metadata": {},
   "source": []
  }
 ],
 "metadata": {
  "kernelspec": {
   "display_name": "Python 3 (ipykernel)",
   "language": "python",
   "name": "python3"
  },
  "language_info": {
   "codemirror_mode": {
    "name": "ipython",
    "version": 3
   },
   "file_extension": ".py",
   "mimetype": "text/x-python",
   "name": "python",
   "nbconvert_exporter": "python",
   "pygments_lexer": "ipython3",
   "version": "3.9.7"
  }
 },
 "nbformat": 4,
 "nbformat_minor": 2
}
